{
 "cells": [
  {
   "cell_type": "markdown",
   "metadata": {},
   "source": [
    "# P3 Data Wranging: OSM Data with MongoDB\n",
    "\n"
   ]
  },
  {
   "cell_type": "markdown",
   "metadata": {},
   "source": [
    "The area downloaded is for the Washington Cascades.  \n",
    "Coordinates area: (46,-122) x (47.2, -121)\n",
    "\n",
    "OSM query: `(node(46.000000,-122.000000,47.200000,-121.000000);<;);out meta;`\n",
    "\n",
    "[OSM Map link](http://www.openstreetmap.org/export#map=8/46.355/-120.396)\n",
    "!['Download area for Cascades in Washington State'](download_area.png)"
   ]
  },
  {
   "cell_type": "markdown",
   "metadata": {},
   "source": [
    "## Problems encountered in the map\n",
    "\n",
    "When reveiwing the initial data retrieved, there were a few inconsistencies encountered relating to some of the natural features encoded in the data."
   ]
  },
  {
   "cell_type": "markdown",
   "metadata": {},
   "source": [
    "### Elevation of mountain peaks\n",
    "\n",
    "Within the data, there is a tag, \"ele\" that is reserved for encoding elevation.  According to the [OSM wiki](http://wiki.openstreetmap.org/wiki/Key:ele), the value is supposed to be the elevation above sea level in meters.  It was primarily intended for encoding mountain peaks (natural=peak).  However, during an audit of this data, several values included a unit string in the value of \"m\" and others of \"ft\".  Still others had no elevation listed."
   ]
  },
  {
   "cell_type": "markdown",
   "metadata": {},
   "source": [
    "#### Cleaning elevations with units\n",
    "\n",
    "To clean up the elevation values, an initial attempt at parsing the value as an int can be performed.  If this fails, a regular expression can be used to seperate the numeric and unit portions of the string.  If the unit is \"m\" then just the numeric poriton will be returned.  If the unit is \"ft\" the numeric portion will be converted to meters and returned."
   ]
  },
  {
   "cell_type": "code",
   "execution_count": 1,
   "metadata": {
    "collapsed": false
   },
   "outputs": [],
   "source": [
    "import re\n",
    "ele_re = re.compile('((?:\\d*\\.)?\\d+)(.*)')\n",
    "\n",
    "def clean_elevation(node):\n",
    "    if 'ele' in node:\n",
    "        ele_str = node['ele']\n",
    "        elevation = None\n",
    "        try:\n",
    "            elevation = float(ele_str)\n",
    "        except:\n",
    "            m = ele_re.match(ele_str)\n",
    "            elevation = float(m.group(1))\n",
    "            unit = m.group(2).strip().lower()\n",
    "\n",
    "            if unit == 'm':\n",
    "                pass\n",
    "            elif unit == 'ft':\n",
    "                elevation *= .3048\n",
    "\n",
    "        if elevation is not None:\n",
    "            node['ele'] = int(round(elevation, 0))\n",
    "    \n",
    "    \n",
    "node = dict()\n",
    "node['ele'] = '1236.54 ft'\n",
    "clean_elevation(node)\n",
    "\n",
    "assert node['ele'] == 377"
   ]
  },
  {
   "cell_type": "markdown",
   "metadata": {},
   "source": [
    "#### Cleaning mountain peaks with no elevation\n",
    "\n",
    "Some peaks have no elevation listed.  If the geographic coordinates are listed, a web service provided by [MapZen](https://mapzen.com/documentation/elevation/elevation-service/) can be utilized to retrieve the value."
   ]
  },
  {
   "cell_type": "code",
   "execution_count": 2,
   "metadata": {
    "collapsed": false
   },
   "outputs": [],
   "source": [
    "import requests\n",
    "\n",
    "\n",
    "def get_elevation(pos):\n",
    "    elevation = None\n",
    "    url = 'http://elevation.mapzen.com/height?json={\"shape\":[{\"lat\":%s, \"lon\": %s}]}&api_key=elevation-xzsLksZ' \\\n",
    "          % (pos[0], pos[1])\n",
    "\n",
    "    r = requests.get(url)\n",
    "    if r.status_code == 200:\n",
    "        elevation = r.json()['height'][0]\n",
    "\n",
    "    return elevation\n",
    "\n",
    "\n",
    "def is_mountain(node):\n",
    "    return 'natural' in node and \\\n",
    "        (node['natural'] == 'peak' or node['natural'] == 'volcano')\n",
    "\n",
    "    \n",
    "def missing_elevation(node):\n",
    "    return 'ele' not in node or node['ele'] is not None\n",
    "\n",
    "\n",
    "def clean_missing_elevation(node):\n",
    "    if is_mountain(node) and missing_elevation(node) and 'pos' in node:\n",
    "        elevation = get_elevation(node['pos'])\n",
    "        if elevation:\n",
    "            node['ele'] = elevation\n",
    "\n",
    "\n",
    "node = dict()\n",
    "node['natural'] = 'peak'\n",
    "node['pos'] = [46, -121]\n",
    "\n",
    "clean_missing_elevation(node)\n",
    "assert node['ele'] is not None"
   ]
  },
  {
   "cell_type": "markdown",
   "metadata": {},
   "source": [
    "### Bodies of water\n",
    "\n",
    "Bodies of water are represented in the data as \"natural=water\".  These can be further classified as using \"water=*\" (e.g. lake, pond, etc.).  There are many named bodies of water that do not have this further classificaiton.  By parsing the name, the classificaion can be generated."
   ]
  },
  {
   "cell_type": "code",
   "execution_count": 3,
   "metadata": {
    "collapsed": false
   },
   "outputs": [],
   "source": [
    "def is_water(node):\n",
    "    return 'natural' in node and node['natural'] == 'water'\n",
    "\n",
    "def missing_water(node):\n",
    "    return 'water' not in node or node['water'] is not None\n",
    "\n",
    "def clean_water_classification(node):\n",
    "    if is_water(node) and missing_water(node) and 'name' in node:\n",
    "        name = node['name'].lower()\n",
    "        if 'lake' in name:\n",
    "            node['water'] = 'lake'\n",
    "        elif 'pond' in name:\n",
    "            node['water'] = 'pond'\n",
    "        elif 'hole' in name:\n",
    "            node['water'] = 'hole'\n",
    "            \n",
    "node = dict()\n",
    "node['natural'] = 'water'\n",
    "node['name'] = 'Lake Louise'\n",
    "\n",
    "clean_water_classification(node)\n",
    "\n",
    "assert node['water'] == 'lake'"
   ]
  },
  {
   "cell_type": "markdown",
   "metadata": {},
   "source": [
    "## Overview of the data"
   ]
  },
  {
   "cell_type": "code",
   "execution_count": 4,
   "metadata": {
    "collapsed": false
   },
   "outputs": [],
   "source": [
    "import os\n",
    "from pymongo import MongoClient\n",
    "import pandas as pd\n",
    "from matplotlib import pyplot as plt\n",
    "import seaborn as sns\n",
    "\n",
    "sns.set_context('talk')\n",
    "\n",
    "%matplotlib inline\n",
    "\n",
    "client = MongoClient('localhost:27017')\n",
    "db = client.dand_p3"
   ]
  },
  {
   "cell_type": "markdown",
   "metadata": {},
   "source": [
    "## File sizes"
   ]
  },
  {
   "cell_type": "code",
   "execution_count": 5,
   "metadata": {
    "collapsed": false
   },
   "outputs": [
    {
     "name": "stdout",
     "output_type": "stream",
     "text": [
      "Uncompressed osm file size: 60.65 MB\n",
      "Processed json file size: 67.36 MB\n",
      "MongoDB size: 192.00 MB\n"
     ]
    }
   ],
   "source": [
    "print 'Uncompressed osm file size: %.2f MB' % (os.path.getsize('data.osm') / 1024.0 / 1024.0)\n",
    "print 'Processed json file size: %.2f MB' % (os.path.getsize('data.osm.json') / 1024.0 / 1024.0)\n",
    "print 'MongoDB size: %.2f MB' % (db.command('dbstats')['fileSize']/ 1024.0 / 1024.0)"
   ]
  },
  {
   "cell_type": "markdown",
   "metadata": {},
   "source": [
    "## Document counts"
   ]
  },
  {
   "cell_type": "code",
   "execution_count": 6,
   "metadata": {
    "collapsed": false
   },
   "outputs": [
    {
     "name": "stdout",
     "output_type": "stream",
     "text": [
      "Count of documents: 326252\n"
     ]
    }
   ],
   "source": [
    "print 'Count of documents: %d' % db.osm.count()"
   ]
  },
  {
   "cell_type": "code",
   "execution_count": 7,
   "metadata": {
    "collapsed": false
   },
   "outputs": [
    {
     "data": {
      "text/html": [
       "<div>\n",
       "<table border=\"1\" class=\"dataframe\">\n",
       "  <thead>\n",
       "    <tr style=\"text-align: right;\">\n",
       "      <th></th>\n",
       "      <th>_id</th>\n",
       "      <th>count</th>\n",
       "    </tr>\n",
       "  </thead>\n",
       "  <tbody>\n",
       "    <tr>\n",
       "      <th>0</th>\n",
       "      <td>way</td>\n",
       "      <td>10156</td>\n",
       "    </tr>\n",
       "    <tr>\n",
       "      <th>1</th>\n",
       "      <td>node</td>\n",
       "      <td>316096</td>\n",
       "    </tr>\n",
       "  </tbody>\n",
       "</table>\n",
       "</div>"
      ],
      "text/plain": [
       "    _id   count\n",
       "0   way   10156\n",
       "1  node  316096"
      ]
     },
     "execution_count": 7,
     "metadata": {},
     "output_type": "execute_result"
    }
   ],
   "source": [
    "pipline = [\n",
    "    {\"$group\": {\"_id\":\"$type\", \"count\":{\"$sum\":1}}}\n",
    "]\n",
    "c = db.osm.aggregate(pipline)\n",
    "pd.DataFrame(list(c))\n"
   ]
  },
  {
   "cell_type": "markdown",
   "metadata": {},
   "source": [
    "## Natural Features"
   ]
  },
  {
   "cell_type": "markdown",
   "metadata": {},
   "source": [
    "### Tallest Mountains"
   ]
  },
  {
   "cell_type": "code",
   "execution_count": 8,
   "metadata": {
    "collapsed": false
   },
   "outputs": [
    {
     "data": {
      "image/png": "[encoded data removed]",
      "text/plain": [
       "<matplotlib.figure.Figure at 0x117884690>"
      ]
     },
     "metadata": {},
     "output_type": "display_data"
    }
   ],
   "source": [
    "pipline = [\n",
    "    {\"$match\": {\"$or\": [{\"natural\":\"peak\"}, {\"natural\":\"volcano\"}]}},\n",
    "    {\"$project\": {\"_id\":0, \"Peak\":\"$name\", \"Elevation\":\"$ele\"}},\n",
    "    {\"$sort\": {\"Elevation\": -1}},\n",
    "    {\"$limit\": 10}\n",
    "]\n",
    "c = db.osm.aggregate(pipline)\n",
    "df = pd.DataFrame(list(c))\n",
    "\n",
    "ax = sns.barplot(data=df, x='Peak', y='Elevation')\n",
    "ax.set_title('Tallest Ten Peaks')\n",
    "ax.set_ylabel('Elevation (m)')\n",
    "plt.xticks(rotation=90)\n",
    "plt.show()"
   ]
  },
  {
   "cell_type": "markdown",
   "metadata": {},
   "source": [
    "### Distribution of Mountain Heights"
   ]
  },
  {
   "cell_type": "code",
   "execution_count": 9,
   "metadata": {
    "collapsed": false
   },
   "outputs": [
    {
     "data": {
      "image/png": "[encoded data removed]",
      "text/plain": [
       "<matplotlib.figure.Figure at 0x103e2cb10>"
      ]
     },
     "metadata": {},
     "output_type": "display_data"
    }
   ],
   "source": [
    "pipline = [\n",
    "    {\"$match\": {\"$or\": [{\"natural\":\"peak\"}, {\"natural\":\"volcano\"}], \"ele\":{\"$exists\": 1}}},\n",
    "    {\"$project\": {\"_id\":0, \"ele\": 1}}\n",
    "]\n",
    "c = db.osm.aggregate(pipline)\n",
    "df = pd.DataFrame(list(c))\n",
    "\n",
    "\n",
    "ax = sns.distplot(df['ele'], bins=20)\n",
    "ax.set_title('Distribution of Mountain Elevations')\n",
    "ax.set_ylabel('Frequency')\n",
    "ax.set_xlabel('Elevation (m)')\n",
    "plt.show()"
   ]
  },
  {
   "cell_type": "markdown",
   "metadata": {},
   "source": [
    "### Types of natural bodies of water"
   ]
  },
  {
   "cell_type": "code",
   "execution_count": 10,
   "metadata": {
    "collapsed": false,
    "scrolled": true
   },
   "outputs": [
    {
     "data": {
      "text/html": [
       "<div>\n",
       "<table border=\"1\" class=\"dataframe\">\n",
       "  <thead>\n",
       "    <tr style=\"text-align: right;\">\n",
       "      <th></th>\n",
       "      <th>_id</th>\n",
       "      <th>count</th>\n",
       "    </tr>\n",
       "  </thead>\n",
       "  <tbody>\n",
       "    <tr>\n",
       "      <th>0</th>\n",
       "      <td>None</td>\n",
       "      <td>498</td>\n",
       "    </tr>\n",
       "    <tr>\n",
       "      <th>1</th>\n",
       "      <td>lake</td>\n",
       "      <td>168</td>\n",
       "    </tr>\n",
       "    <tr>\n",
       "      <th>2</th>\n",
       "      <td>pond</td>\n",
       "      <td>9</td>\n",
       "    </tr>\n",
       "    <tr>\n",
       "      <th>3</th>\n",
       "      <td>hole</td>\n",
       "      <td>1</td>\n",
       "    </tr>\n",
       "  </tbody>\n",
       "</table>\n",
       "</div>"
      ],
      "text/plain": [
       "    _id  count\n",
       "0  None    498\n",
       "1  lake    168\n",
       "2  pond      9\n",
       "3  hole      1"
      ]
     },
     "execution_count": 10,
     "metadata": {},
     "output_type": "execute_result"
    }
   ],
   "source": [
    "pipline = [\n",
    "    {\"$match\": {\"natural\":\"water\"}},\n",
    "    {\"$group\": {\"_id\":\"$water\", \"count\":{\"$sum\":1}}},\n",
    "    {\"$sort\": {\"count\":-1}}\n",
    "]\n",
    "c = db.osm.aggregate(pipline)\n",
    "pd.DataFrame(list(c))"
   ]
  },
  {
   "cell_type": "markdown",
   "metadata": {},
   "source": [
    "### Types of tourism points"
   ]
  },
  {
   "cell_type": "code",
   "execution_count": 11,
   "metadata": {
    "collapsed": false
   },
   "outputs": [
    {
     "data": {
      "image/png": "[encoded data removed]",
      "text/plain": [
       "<matplotlib.figure.Figure at 0x119d25a10>"
      ]
     },
     "metadata": {},
     "output_type": "display_data"
    }
   ],
   "source": [
    "pipline = [\n",
    "    {\"$match\": {\"tourism\":{\"$exists\": 1}}},\n",
    "    {\"$group\": {\"_id\":\"$tourism\", \"count\":{\"$sum\":1}}},\n",
    "    {\"$sort\": {\"count\":-1}}\n",
    "]\n",
    "c = db.osm.aggregate(pipline)\n",
    "df = pd.DataFrame(list(c))\n",
    "\n",
    "ax = sns.barplot(data=df, x='_id', y='count')\n",
    "ax.set_title('Types of Tourism Points of Interest')\n",
    "ax.set_ylabel('Count')\n",
    "ax.set_xlabel('Tourism Type')\n",
    "plt.xticks(rotation=90)\n",
    "plt.show()"
   ]
  },
  {
   "cell_type": "markdown",
   "metadata": {},
   "source": [
    "## Other ideas about the data\n",
    "\n",
    "For \"way\" elements, there are only the references to the nodes which have the coordinates.  For use in mapping applications and other calculations having these coordinates directly associated with the nodes and ways would be useful.  For example, having a list of coordinates would allow for the calculation of the the distance of the path.  \n",
    "\n",
    "For many natural features, knowing the elevation is useful.  The same technique used to fill in the missing elevations of mountains can be applied to other features.  For \"way\" elements, specifically hiking trails, using the starting and ending points the elevation gain/loss can be calculated.  A possible issue with how the \"ways\" are defined is that they are often broken up into sections.  A single hiking route that a user may be interested could be be represented as several independent ways.  OSM does have a data structure, called \"relations\", that fulfills this function, however it is not consistently implemented.  Some ways share common names, and may be able to programatically be joined together.  Another option would be to query for ways without relations, where the end of one way is the start of only one other. "
   ]
  },
  {
   "cell_type": "markdown",
   "metadata": {},
   "source": [
    "## References\n",
    "\n",
    "> http://overpass-api.de/command_line.html\n",
    "\n",
    "> https://mapzen.com/documentation/elevation/elevation-service/\n",
    "\n",
    "> http://wiki.openstreetmap.org/wiki/Key:ele\n",
    "\n",
    "> http://wiki.openstreetmap.org/wiki/Tag:natural%3Dwater\n",
    "\n",
    "> http://wiki.openstreetmap.org/wiki/Relation"
   ]
  }
 ],
 "metadata": {
  "anaconda-cloud": {},
  "kernelspec": {
   "display_name": "Python [Root]",
   "language": "python",
   "name": "Python [Root]"
  },
  "language_info": {
   "codemirror_mode": {
    "name": "ipython",
    "version": 2
   },
   "file_extension": ".py",
   "mimetype": "text/x-python",
   "name": "python",
   "nbconvert_exporter": "python",
   "pygments_lexer": "ipython2",
   "version": "2.7.12"
  }
 },
 "nbformat": 4,
 "nbformat_minor": 0
}
